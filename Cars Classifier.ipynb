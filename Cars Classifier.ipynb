{
 "cells": [
  {
   "cell_type": "code",
   "execution_count": 1,
   "metadata": {},
   "outputs": [
    {
     "output_type": "stream",
     "name": "stderr",
     "text": "Using TensorFlow backend.\n"
    }
   ],
   "source": [
    "import numpy as np\n",
    "import matplotlib.pyplot as plt\n",
    "import keras\n",
    "from keras.preprocessing.image import ImageDataGenerator "
   ]
  },
  {
   "cell_type": "code",
   "execution_count": 2,
   "metadata": {},
   "outputs": [],
   "source": [
    "num_classes = 2\n",
    "img_rows = 32\n",
    "img_cols = 32\n",
    "batch_size = 32"
   ]
  },
  {
   "cell_type": "code",
   "execution_count": 3,
   "metadata": {},
   "outputs": [],
   "source": [
    "train_data_dir = \"C:\\\\Users\\\\Girish\\\\Desktop\\\\Python\\\\CNN\\\\data\\\\train\"\n",
    "validation_data_dir = 'C:\\\\Users\\\\Girish\\\\Desktop\\\\Python\\\\CNN\\\\data\\\\validation'\n",
    "test_data_dir = 'C:\\\\Users\\\\Girish\\\\Desktop\\\\Python\\\\CNN\\\\data\\\\test'"
   ]
  },
  {
   "cell_type": "code",
   "execution_count": 4,
   "metadata": {},
   "outputs": [],
   "source": [
    "train_datagen = ImageDataGenerator(rescale = 1./255,\n",
    "                                  width_shift_range = 0.3,\n",
    "                                  height_shift_range = 0.3,\n",
    "                                  rotation_range = 0.3,\n",
    "                                  horizontal_flip = True,\n",
    "                                  fill_mode = 'nearest')\n",
    "validation_datagen = ImageDataGenerator(rescale = 1./255)\n",
    "test_datagen = ImageDataGenerator(rescale = 1./255)"
   ]
  },
  {
   "cell_type": "code",
   "execution_count": 5,
   "metadata": {},
   "outputs": [
    {
     "output_type": "stream",
     "name": "stdout",
     "text": "Found 2400 images belonging to 2 classes.\n"
    }
   ],
   "source": [
    "train_generator = train_datagen.flow_from_directory(directory = train_data_dir,\n",
    "                                                   target_size = (img_rows,img_cols),\n",
    "                                                   batch_size = batch_size,\n",
    "                                                   class_mode = 'categorical',\n",
    "                                                   shuffle = True)"
   ]
  },
  {
   "cell_type": "code",
   "execution_count": 6,
   "metadata": {},
   "outputs": [
    {
     "output_type": "stream",
     "name": "stdout",
     "text": "Found 800 images belonging to 2 classes.\n"
    }
   ],
   "source": [
    "validation_generator = validation_datagen.flow_from_directory(directory = validation_data_dir,\n",
    "                                                             target_size = (img_rows,img_cols),\n",
    "                                                             batch_size = batch_size,\n",
    "                                                             shuffle = False,\n",
    "                                                             class_mode = 'categorical')"
   ]
  },
  {
   "cell_type": "code",
   "execution_count": 7,
   "metadata": {},
   "outputs": [
    {
     "output_type": "stream",
     "name": "stdout",
     "text": "Found 800 images belonging to 2 classes.\n"
    }
   ],
   "source": [
    "test_generator = test_datagen.flow_from_directory(directory = test_data_dir,\n",
    "                                                 target_size = (img_rows,img_cols),\n",
    "                                                 batch_size = batch_size,\n",
    "                                                 shuffle = False,\n",
    "                                                 class_mode = 'categorical')"
   ]
  },
  {
   "cell_type": "code",
   "execution_count": 8,
   "metadata": {},
   "outputs": [],
   "source": [
    "from keras.models import Sequential\n",
    "from keras.layers import Dense,Dropout,Conv2D,MaxPooling2D,Flatten,BatchNormalization"
   ]
  },
  {
   "cell_type": "code",
   "execution_count": 9,
   "metadata": {},
   "outputs": [],
   "source": [
    "def convnet():\n",
    "    model = Sequential([\n",
    "    Conv2D(32,(3,3),padding = 'same',activation = 'relu',input_shape = (img_rows,img_cols,3)),\n",
    "    Conv2D(32,(3,3),activation = 'relu'),\n",
    "    MaxPooling2D(pool_size=(2,2),strides =2),\n",
    "    BatchNormalization(),\n",
    "    \n",
    "    Conv2D(64,(3,3),padding = 'same',activation = 'relu'),\n",
    "    Conv2D(64,(3,3),activation = 'relu'),\n",
    "    MaxPooling2D(pool_size=(2,2),strides=2),\n",
    "    BatchNormalization(),\n",
    "\n",
    "    Conv2D(64,(3,3),padding = 'same',activation = 'relu'),\n",
    "    Conv2D(64,(3,3),activation = 'relu'),\n",
    "    MaxPooling2D(pool_size=(2,2),strides=2),\n",
    "    BatchNormalization(),\n",
    "    \n",
    "    Conv2D(128,(3,3),padding = \"same\",activation=\"relu\"),\n",
    "    Conv2D(128,(3,3),padding=\"same\",activation=\"relu\"),\n",
    "    MaxPooling2D(pool_size=(2,2),strides=2),\n",
    "    BatchNormalization(),\n",
    "    \n",
    "    Flatten(),\n",
    "    Dense(128,activation='relu'),\n",
    "    BatchNormalization(),\n",
    "    Dense(num_classes,activation='softmax')\n",
    "    ])\n",
    "    return model"
   ]
  },
  {
   "cell_type": "code",
   "execution_count": 10,
   "metadata": {},
   "outputs": [
    {
     "output_type": "stream",
     "name": "stdout",
     "text": "Model: \"sequential_1\"\n_________________________________________________________________\nLayer (type)                 Output Shape              Param #   \n=================================================================\nconv2d_1 (Conv2D)            (None, 32, 32, 32)        896       \n_________________________________________________________________\nconv2d_2 (Conv2D)            (None, 30, 30, 32)        9248      \n_________________________________________________________________\nmax_pooling2d_1 (MaxPooling2 (None, 15, 15, 32)        0         \n_________________________________________________________________\nbatch_normalization_1 (Batch (None, 15, 15, 32)        128       \n_________________________________________________________________\nconv2d_3 (Conv2D)            (None, 15, 15, 64)        18496     \n_________________________________________________________________\nconv2d_4 (Conv2D)            (None, 13, 13, 64)        36928     \n_________________________________________________________________\nmax_pooling2d_2 (MaxPooling2 (None, 6, 6, 64)          0         \n_________________________________________________________________\nbatch_normalization_2 (Batch (None, 6, 6, 64)          256       \n_________________________________________________________________\nconv2d_5 (Conv2D)            (None, 6, 6, 64)          36928     \n_________________________________________________________________\nconv2d_6 (Conv2D)            (None, 4, 4, 64)          36928     \n_________________________________________________________________\nmax_pooling2d_3 (MaxPooling2 (None, 2, 2, 64)          0         \n_________________________________________________________________\nbatch_normalization_3 (Batch (None, 2, 2, 64)          256       \n_________________________________________________________________\nconv2d_7 (Conv2D)            (None, 2, 2, 128)         73856     \n_________________________________________________________________\nconv2d_8 (Conv2D)            (None, 2, 2, 128)         147584    \n_________________________________________________________________\nmax_pooling2d_4 (MaxPooling2 (None, 1, 1, 128)         0         \n_________________________________________________________________\nbatch_normalization_4 (Batch (None, 1, 1, 128)         512       \n_________________________________________________________________\nflatten_1 (Flatten)          (None, 128)               0         \n_________________________________________________________________\ndense_1 (Dense)              (None, 128)               16512     \n_________________________________________________________________\nbatch_normalization_5 (Batch (None, 128)               512       \n_________________________________________________________________\ndense_2 (Dense)              (None, 2)                 258       \n=================================================================\nTotal params: 379,298\nTrainable params: 378,466\nNon-trainable params: 832\n_________________________________________________________________\n"
    }
   ],
   "source": [
    "model= convnet()\n",
    "model.summary()"
   ]
  },
  {
   "cell_type": "code",
   "execution_count": 11,
   "metadata": {},
   "outputs": [],
   "source": [
    "from keras.callbacks import ModelCheckpoint,EarlyStopping,ReduceLROnPlateau"
   ]
  },
  {
   "cell_type": "code",
   "execution_count": 12,
   "metadata": {},
   "outputs": [],
   "source": [
    "\n",
    "earlystop = EarlyStopping(monitor = 'val_accuracy',\n",
    "                         min_delta = 0,\n",
    "                         patience = 3,\n",
    "                         verbose = 1,\n",
    "                         restore_best_weights = True)\n",
    "reduce_lr = ReduceLROnPlateau(monitor = 'val_accuracy',\n",
    "                             factor = 0.2,\n",
    "                             patience = 3,\n",
    "                             verbose = 1,\n",
    "                             min_delta = 0.0001)\n",
    "callbacks = [earlystop,reduce_lr]"
   ]
  },
  {
   "cell_type": "code",
   "execution_count": 14,
   "metadata": {},
   "outputs": [],
   "source": [
    "optimizer = keras.optimizers.Adam(lr=0.001)\n",
    "model.compile(optimizer = optimizer,\n",
    "             loss = 'categorical_crossentropy',\n",
    "             metrics = ['accuracy'])"
   ]
  },
  {
   "cell_type": "code",
   "execution_count": 15,
   "metadata": {},
   "outputs": [],
   "source": [
    "nb_train_samples = 2400\n",
    "nb_validation_samples = 800\n",
    "epochs = 100"
   ]
  },
  {
   "cell_type": "code",
   "execution_count": 16,
   "metadata": {
    "scrolled": true
   },
   "outputs": [
    {
     "output_type": "stream",
     "name": "stdout",
     "text": "Epoch 1/100\n75/75 [==============================] - 16s 209ms/step - loss: 0.8386 - accuracy: 0.5271 - val_loss: 0.7646 - val_accuracy: 0.5000\nEpoch 2/100\n75/75 [==============================] - 14s 192ms/step - loss: 0.7019 - accuracy: 0.5725 - val_loss: 0.5031 - val_accuracy: 0.5000\nEpoch 3/100\n75/75 [==============================] - 14s 190ms/step - loss: 0.6929 - accuracy: 0.5688 - val_loss: 0.3025 - val_accuracy: 0.5000\nEpoch 4/100\n75/75 [==============================] - 14s 190ms/step - loss: 0.6647 - accuracy: 0.6150 - val_loss: 0.4327 - val_accuracy: 0.5663\nEpoch 5/100\n75/75 [==============================] - 14s 192ms/step - loss: 0.6564 - accuracy: 0.6204 - val_loss: 0.6425 - val_accuracy: 0.6313\nEpoch 6/100\n75/75 [==============================] - 14s 193ms/step - loss: 0.6202 - accuracy: 0.6521 - val_loss: 0.1808 - val_accuracy: 0.5300\nEpoch 7/100\n75/75 [==============================] - 14s 191ms/step - loss: 0.6060 - accuracy: 0.6821 - val_loss: 0.4193 - val_accuracy: 0.6562\nEpoch 8/100\n75/75 [==============================] - 14s 190ms/step - loss: 0.5988 - accuracy: 0.6775 - val_loss: 0.8099 - val_accuracy: 0.6762\nEpoch 9/100\n75/75 [==============================] - 14s 191ms/step - loss: 0.5742 - accuracy: 0.7008 - val_loss: 0.9312 - val_accuracy: 0.6388\nEpoch 10/100\n75/75 [==============================] - 14s 190ms/step - loss: 0.5622 - accuracy: 0.7054 - val_loss: 0.3707 - val_accuracy: 0.6175\nEpoch 11/100\n75/75 [==============================] - 14s 191ms/step - loss: 0.5278 - accuracy: 0.7321 - val_loss: 0.1890 - val_accuracy: 0.6263\nEpoch 12/100\n75/75 [==============================] - 14s 190ms/step - loss: 0.5330 - accuracy: 0.7358 - val_loss: 0.1635 - val_accuracy: 0.6225\nEpoch 13/100\n75/75 [==============================] - 15s 196ms/step - loss: 0.5144 - accuracy: 0.7492 - val_loss: 0.9692 - val_accuracy: 0.6650\nEpoch 14/100\n75/75 [==============================] - 14s 191ms/step - loss: 0.5106 - accuracy: 0.7392 - val_loss: 1.3642 - val_accuracy: 0.6325\nEpoch 15/100\n75/75 [==============================] - 14s 189ms/step - loss: 0.4885 - accuracy: 0.7542 - val_loss: 0.9764 - val_accuracy: 0.6900\nEpoch 16/100\n75/75 [==============================] - 14s 193ms/step - loss: 0.4777 - accuracy: 0.7617 - val_loss: 0.3898 - val_accuracy: 0.7450\nEpoch 17/100\n75/75 [==============================] - 14s 190ms/step - loss: 0.4541 - accuracy: 0.7788 - val_loss: 0.2841 - val_accuracy: 0.7475\nEpoch 18/100\n75/75 [==============================] - 14s 189ms/step - loss: 0.4627 - accuracy: 0.7729 - val_loss: 0.5663 - val_accuracy: 0.7600\nEpoch 19/100\n75/75 [==============================] - 14s 190ms/step - loss: 0.4344 - accuracy: 0.7875 - val_loss: 1.1379 - val_accuracy: 0.7025\nEpoch 20/100\n75/75 [==============================] - 14s 193ms/step - loss: 0.4232 - accuracy: 0.8000 - val_loss: 0.2877 - val_accuracy: 0.7400\nEpoch 21/100\n75/75 [==============================] - 14s 192ms/step - loss: 0.4409 - accuracy: 0.7721 - val_loss: 0.3499 - val_accuracy: 0.6488\nEpoch 22/100\n75/75 [==============================] - 14s 189ms/step - loss: 0.4112 - accuracy: 0.8029 - val_loss: 0.2437 - val_accuracy: 0.7887\nEpoch 23/100\n75/75 [==============================] - 14s 192ms/step - loss: 0.3831 - accuracy: 0.8246 - val_loss: 0.3892 - val_accuracy: 0.7237\nEpoch 24/100\n75/75 [==============================] - 14s 191ms/step - loss: 0.3883 - accuracy: 0.8167 - val_loss: 1.5371 - val_accuracy: 0.6612\nEpoch 25/100\n75/75 [==============================] - 14s 192ms/step - loss: 0.3576 - accuracy: 0.8321 - val_loss: 0.2526 - val_accuracy: 0.7975\nEpoch 26/100\n75/75 [==============================] - 14s 189ms/step - loss: 0.3678 - accuracy: 0.8188 - val_loss: 0.6996 - val_accuracy: 0.7362\nEpoch 27/100\n75/75 [==============================] - 15s 195ms/step - loss: 0.3665 - accuracy: 0.8229 - val_loss: 0.3345 - val_accuracy: 0.8200\nEpoch 28/100\n75/75 [==============================] - 14s 189ms/step - loss: 0.3534 - accuracy: 0.8296 - val_loss: 0.3057 - val_accuracy: 0.8263\nEpoch 29/100\n75/75 [==============================] - 14s 192ms/step - loss: 0.3457 - accuracy: 0.8363 - val_loss: 1.4058 - val_accuracy: 0.6875\nEpoch 30/100\n75/75 [==============================] - 15s 197ms/step - loss: 0.3331 - accuracy: 0.8575 - val_loss: 0.8917 - val_accuracy: 0.7050\nEpoch 31/100\n75/75 [==============================] - 14s 193ms/step - loss: 0.3341 - accuracy: 0.8425 - val_loss: 0.6726 - val_accuracy: 0.7387\nEpoch 32/100\n75/75 [==============================] - 14s 192ms/step - loss: 0.3262 - accuracy: 0.8546 - val_loss: 0.2706 - val_accuracy: 0.8500\nEpoch 33/100\n75/75 [==============================] - 14s 192ms/step - loss: 0.3177 - accuracy: 0.8504 - val_loss: 0.2806 - val_accuracy: 0.7513\nEpoch 34/100\n75/75 [==============================] - 14s 191ms/step - loss: 0.3093 - accuracy: 0.8546 - val_loss: 0.2873 - val_accuracy: 0.8225\nEpoch 35/100\n75/75 [==============================] - 15s 194ms/step - loss: 0.2943 - accuracy: 0.8671 - val_loss: 0.2216 - val_accuracy: 0.8288\nEpoch 36/100\n75/75 [==============================] - 14s 191ms/step - loss: 0.3008 - accuracy: 0.8646 - val_loss: 0.3697 - val_accuracy: 0.8537\nEpoch 37/100\n75/75 [==============================] - 14s 190ms/step - loss: 0.3076 - accuracy: 0.8708 - val_loss: 0.2023 - val_accuracy: 0.8375\nEpoch 38/100\n75/75 [==============================] - 14s 192ms/step - loss: 0.2838 - accuracy: 0.8729 - val_loss: 0.4544 - val_accuracy: 0.8612\nEpoch 39/100\n75/75 [==============================] - 14s 192ms/step - loss: 0.2824 - accuracy: 0.8829 - val_loss: 0.2083 - val_accuracy: 0.8475\nEpoch 40/100\n75/75 [==============================] - 14s 193ms/step - loss: 0.2954 - accuracy: 0.8683 - val_loss: 0.3352 - val_accuracy: 0.8000\nEpoch 41/100\n75/75 [==============================] - 15s 194ms/step - loss: 0.2829 - accuracy: 0.8792 - val_loss: 0.2955 - val_accuracy: 0.7912\nEpoch 42/100\n75/75 [==============================] - 15s 196ms/step - loss: 0.2711 - accuracy: 0.8783 - val_loss: 0.4337 - val_accuracy: 0.8462\nEpoch 43/100\n75/75 [==============================] - 14s 192ms/step - loss: 0.2652 - accuracy: 0.8896 - val_loss: 0.3190 - val_accuracy: 0.8625\nEpoch 44/100\n75/75 [==============================] - 15s 195ms/step - loss: 0.2599 - accuracy: 0.8846 - val_loss: 0.3164 - val_accuracy: 0.8687\nEpoch 45/100\n75/75 [==============================] - 14s 192ms/step - loss: 0.2353 - accuracy: 0.8975 - val_loss: 0.9621 - val_accuracy: 0.8100\nEpoch 46/100\n75/75 [==============================] - 15s 194ms/step - loss: 0.2571 - accuracy: 0.8883 - val_loss: 0.7899 - val_accuracy: 0.8263\nEpoch 47/100\n75/75 [==============================] - 14s 193ms/step - loss: 0.2512 - accuracy: 0.8925 - val_loss: 0.1127 - val_accuracy: 0.8462\nEpoch 48/100\n75/75 [==============================] - 14s 192ms/step - loss: 0.2615 - accuracy: 0.8833 - val_loss: 0.3546 - val_accuracy: 0.8525\nEpoch 49/100\n75/75 [==============================] - 14s 193ms/step - loss: 0.2458 - accuracy: 0.8958 - val_loss: 0.3770 - val_accuracy: 0.8163\nEpoch 50/100\n75/75 [==============================] - 14s 191ms/step - loss: 0.2498 - accuracy: 0.8875 - val_loss: 0.3570 - val_accuracy: 0.8550\nEpoch 51/100\n75/75 [==============================] - 15s 194ms/step - loss: 0.2459 - accuracy: 0.8917 - val_loss: 0.3243 - val_accuracy: 0.8562\nEpoch 52/100\n75/75 [==============================] - 14s 193ms/step - loss: 0.2420 - accuracy: 0.8900 - val_loss: 0.1522 - val_accuracy: 0.8788\nEpoch 53/100\n75/75 [==============================] - 15s 195ms/step - loss: 0.2350 - accuracy: 0.8942 - val_loss: 0.2057 - val_accuracy: 0.8662\nEpoch 54/100\n75/75 [==============================] - 15s 194ms/step - loss: 0.2440 - accuracy: 0.8946 - val_loss: 0.5512 - val_accuracy: 0.8313\nEpoch 55/100\n75/75 [==============================] - 14s 192ms/step - loss: 0.2295 - accuracy: 0.9004 - val_loss: 0.2256 - val_accuracy: 0.8238\nEpoch 56/100\n75/75 [==============================] - 14s 192ms/step - loss: 0.2248 - accuracy: 0.9025 - val_loss: 0.1612 - val_accuracy: 0.8600\nEpoch 57/100\n75/75 [==============================] - 14s 193ms/step - loss: 0.2387 - accuracy: 0.9025 - val_loss: 0.7485 - val_accuracy: 0.8075\nEpoch 58/100\n75/75 [==============================] - 14s 191ms/step - loss: 0.2080 - accuracy: 0.9129 - val_loss: 0.3150 - val_accuracy: 0.8525\nEpoch 59/100\n75/75 [==============================] - 15s 195ms/step - loss: 0.2197 - accuracy: 0.9117 - val_loss: 0.4259 - val_accuracy: 0.8512\nEpoch 60/100\n75/75 [==============================] - 15s 194ms/step - loss: 0.2120 - accuracy: 0.9158 - val_loss: 0.5484 - val_accuracy: 0.8650\nEpoch 61/100\n75/75 [==============================] - 15s 194ms/step - loss: 0.1980 - accuracy: 0.9221 - val_loss: 0.2400 - val_accuracy: 0.8363\nEpoch 62/100\n75/75 [==============================] - 15s 193ms/step - loss: 0.2101 - accuracy: 0.9079 - val_loss: 0.2299 - val_accuracy: 0.8662\nEpoch 63/100\n75/75 [==============================] - 14s 192ms/step - loss: 0.1884 - accuracy: 0.9271 - val_loss: 0.1925 - val_accuracy: 0.8325\nEpoch 64/100\n75/75 [==============================] - 14s 192ms/step - loss: 0.1938 - accuracy: 0.9187 - val_loss: 0.5859 - val_accuracy: 0.8750\nEpoch 65/100\n75/75 [==============================] - 15s 194ms/step - loss: 0.1811 - accuracy: 0.9183 - val_loss: 0.1836 - val_accuracy: 0.8838\nEpoch 66/100\n75/75 [==============================] - 16s 212ms/step - loss: 0.1917 - accuracy: 0.9187 - val_loss: 0.2504 - val_accuracy: 0.8625\nEpoch 67/100\n75/75 [==============================] - 18s 242ms/step - loss: 0.1826 - accuracy: 0.9221 - val_loss: 0.3268 - val_accuracy: 0.8587\nEpoch 68/100\n75/75 [==============================] - 18s 246ms/step - loss: 0.1881 - accuracy: 0.9196 - val_loss: 0.5858 - val_accuracy: 0.8125\nEpoch 69/100\n75/75 [==============================] - 17s 224ms/step - loss: 0.1911 - accuracy: 0.9171 - val_loss: 0.2763 - val_accuracy: 0.8687\nEpoch 70/100\n75/75 [==============================] - 15s 201ms/step - loss: 0.1865 - accuracy: 0.9262 - val_loss: 0.1255 - val_accuracy: 0.8075\nEpoch 71/100\n75/75 [==============================] - 16s 215ms/step - loss: 0.1785 - accuracy: 0.9308 - val_loss: 0.1865 - val_accuracy: 0.8850\nEpoch 72/100\n75/75 [==============================] - 16s 214ms/step - loss: 0.1897 - accuracy: 0.9217 - val_loss: 0.2715 - val_accuracy: 0.8700\nEpoch 73/100\n75/75 [==============================] - 15s 197ms/step - loss: 0.1699 - accuracy: 0.9287 - val_loss: 0.5588 - val_accuracy: 0.8612\nEpoch 74/100\n75/75 [==============================] - 15s 200ms/step - loss: 0.1857 - accuracy: 0.9167 - val_loss: 0.5086 - val_accuracy: 0.8188\nEpoch 75/100\n75/75 [==============================] - 15s 194ms/step - loss: 0.1597 - accuracy: 0.9383 - val_loss: 0.1815 - val_accuracy: 0.8850\nEpoch 76/100\n75/75 [==============================] - 15s 194ms/step - loss: 0.1612 - accuracy: 0.9333 - val_loss: 0.1762 - val_accuracy: 0.8888\nEpoch 77/100\n75/75 [==============================] - 15s 194ms/step - loss: 0.1796 - accuracy: 0.9317 - val_loss: 0.8463 - val_accuracy: 0.8250\nEpoch 78/100\n75/75 [==============================] - 15s 195ms/step - loss: 0.1736 - accuracy: 0.9304 - val_loss: 0.2761 - val_accuracy: 0.8888\nEpoch 79/100\n75/75 [==============================] - 14s 193ms/step - loss: 0.1719 - accuracy: 0.9342 - val_loss: 0.3583 - val_accuracy: 0.8900\nEpoch 80/100\n75/75 [==============================] - 15s 194ms/step - loss: 0.1594 - accuracy: 0.9362 - val_loss: 0.4600 - val_accuracy: 0.9062\nEpoch 81/100\n75/75 [==============================] - 15s 194ms/step - loss: 0.1579 - accuracy: 0.9408 - val_loss: 0.3314 - val_accuracy: 0.8900\nEpoch 82/100\n75/75 [==============================] - 14s 193ms/step - loss: 0.1642 - accuracy: 0.9371 - val_loss: 0.2602 - val_accuracy: 0.8662\nEpoch 83/100\n75/75 [==============================] - 15s 194ms/step - loss: 0.1457 - accuracy: 0.9413 - val_loss: 0.2752 - val_accuracy: 0.8875\nEpoch 84/100\n75/75 [==============================] - 14s 192ms/step - loss: 0.1582 - accuracy: 0.9400 - val_loss: 0.4725 - val_accuracy: 0.8800\nEpoch 85/100\n75/75 [==============================] - 14s 192ms/step - loss: 0.1603 - accuracy: 0.9404 - val_loss: 0.4008 - val_accuracy: 0.9013\nEpoch 86/100\n75/75 [==============================] - 14s 193ms/step - loss: 0.1481 - accuracy: 0.9471 - val_loss: 0.7861 - val_accuracy: 0.8938\nEpoch 87/100\n75/75 [==============================] - 14s 192ms/step - loss: 0.1566 - accuracy: 0.9337 - val_loss: 0.5098 - val_accuracy: 0.8462\nEpoch 88/100\n75/75 [==============================] - 14s 191ms/step - loss: 0.1551 - accuracy: 0.9388 - val_loss: 0.3938 - val_accuracy: 0.8938\nEpoch 89/100\n75/75 [==============================] - 14s 191ms/step - loss: 0.1361 - accuracy: 0.9463 - val_loss: 0.5362 - val_accuracy: 0.8838\nEpoch 90/100\n75/75 [==============================] - 14s 191ms/step - loss: 0.1305 - accuracy: 0.9438 - val_loss: 0.2089 - val_accuracy: 0.8888\nEpoch 91/100\n75/75 [==============================] - 14s 193ms/step - loss: 0.1509 - accuracy: 0.9367 - val_loss: 0.6260 - val_accuracy: 0.8487\nEpoch 92/100\n75/75 [==============================] - 14s 193ms/step - loss: 0.1566 - accuracy: 0.9400 - val_loss: 0.2587 - val_accuracy: 0.8950\nEpoch 93/100\n75/75 [==============================] - 15s 194ms/step - loss: 0.1347 - accuracy: 0.9446 - val_loss: 0.5944 - val_accuracy: 0.8838\nEpoch 94/100\n75/75 [==============================] - 14s 193ms/step - loss: 0.1356 - accuracy: 0.9450 - val_loss: 0.3408 - val_accuracy: 0.8888\nEpoch 95/100\n75/75 [==============================] - 15s 195ms/step - loss: 0.1431 - accuracy: 0.9413 - val_loss: 0.2678 - val_accuracy: 0.8850\nEpoch 96/100\n75/75 [==============================] - 15s 194ms/step - loss: 0.1486 - accuracy: 0.9400 - val_loss: 0.1017 - val_accuracy: 0.8763\nEpoch 97/100\n75/75 [==============================] - 14s 193ms/step - loss: 0.1439 - accuracy: 0.9454 - val_loss: 0.2018 - val_accuracy: 0.8725\nEpoch 98/100\n75/75 [==============================] - 15s 194ms/step - loss: 0.1211 - accuracy: 0.9571 - val_loss: 0.1875 - val_accuracy: 0.9000\nEpoch 99/100\n75/75 [==============================] - 15s 195ms/step - loss: 0.1234 - accuracy: 0.9517 - val_loss: 0.3202 - val_accuracy: 0.9100\nEpoch 100/100\n75/75 [==============================] - 15s 196ms/step - loss: 0.1240 - accuracy: 0.9488 - val_loss: 0.4646 - val_accuracy: 0.9013\n"
    }
   ],
   "source": [
    "history = model.fit_generator(train_generator,\n",
    "                             epochs = epochs,\n",
    "                             steps_per_epoch = nb_train_samples // batch_size,\n",
    "                             validation_data = validation_generator,\n",
    "                             validation_steps = nb_validation_samples // batch_size,\n",
    "                             )"
   ]
  },
  {
   "cell_type": "code",
   "execution_count": 17,
   "metadata": {},
   "outputs": [
    {
     "output_type": "stream",
     "name": "stdout",
     "text": "26/26 [==============================] - 2s 94ms/step\n\n Test Result: 90.385 loss : 0.086\n"
    }
   ],
   "source": [
    "scores = model.evaluate_generator(validation_generator,steps = nb_validation_samples // batch_size+1,verbose = 1)\n",
    "print(\"\\n Test Result: %.3f loss : %.3f\" %(scores[1]*100 ,scores[0]))"
   ]
  },
  {
   "cell_type": "code",
   "execution_count": 18,
   "metadata": {},
   "outputs": [],
   "source": [
    "model.save('car_classifier_model.h5')"
   ]
  },
  {
   "cell_type": "code",
   "execution_count": 19,
   "metadata": {},
   "outputs": [],
   "source": [
    "new_model = keras.models.load_model('car_classifier_model.h5')"
   ]
  },
  {
   "cell_type": "code",
   "execution_count": 20,
   "metadata": {},
   "outputs": [],
   "source": [
    "y_pred = new_model.predict_generator(validation_generator,nb_validation_samples // batch_size)"
   ]
  },
  {
   "cell_type": "code",
   "execution_count": 21,
   "metadata": {},
   "outputs": [],
   "source": [
    "y_pred_label = np.argmax(y_pred,axis = 1)"
   ]
  },
  {
   "cell_type": "code",
   "execution_count": 22,
   "metadata": {},
   "outputs": [],
   "source": [
    "nb_test_samples = 800\n",
    "test_pred = model.predict_generator(test_generator,nb_test_samples // batch_size)"
   ]
  },
  {
   "cell_type": "code",
   "execution_count": 23,
   "metadata": {},
   "outputs": [],
   "source": [
    "test_pred_label = np.argmax(test_pred,axis=1)"
   ]
  },
  {
   "cell_type": "code",
   "execution_count": 24,
   "metadata": {},
   "outputs": [
    {
     "output_type": "stream",
     "name": "stdout",
     "text": "Confusion validation Matrix\n[[381  19]\n [ 60 340]]\nClassification Validation Report\n              precision    recall  f1-score   support\n\n       swift       0.86      0.95      0.91       400\n      wagonr       0.95      0.85      0.90       400\n\n    accuracy                           0.90       800\n   macro avg       0.91      0.90      0.90       800\nweighted avg       0.91      0.90      0.90       800\n\n"
    }
   ],
   "source": [
    "from sklearn.metrics import confusion_matrix,classification_report\n",
    "print(\"Confusion validation Matrix\")\n",
    "print(confusion_matrix(validation_generator.classes,y_pred_label))\n",
    "print(\"Classification Validation Report\")\n",
    "class_labels = validation_generator.class_indices\n",
    "class_labels = {v: k for k,v in class_labels.items()}\n",
    "classes = list(class_labels.values())\n",
    "print(classification_report(validation_generator.classes,y_pred_label,target_names = classes))"
   ]
  },
  {
   "cell_type": "code",
   "execution_count": 25,
   "metadata": {},
   "outputs": [
    {
     "output_type": "stream",
     "name": "stdout",
     "text": "Confusion Test Matrix\n[[378  22]\n [ 58 342]]\nClassification Test Report\n              precision    recall  f1-score   support\n\n       swift       0.87      0.94      0.90       400\n      wagonr       0.94      0.85      0.90       400\n\n    accuracy                           0.90       800\n   macro avg       0.90      0.90      0.90       800\nweighted avg       0.90      0.90      0.90       800\n\n"
    }
   ],
   "source": [
    "print(\"Confusion Test Matrix\")\n",
    "print(confusion_matrix(test_generator.classes,test_pred_label))\n",
    "print('Classification Test Report')\n",
    "class_labels = test_generator.class_indices\n",
    "class_labels = {z : k for k,z in class_labels.items()}\n",
    "classes = list(class_labels.values())\n",
    "print(classification_report(test_generator.classes,test_pred_label,target_names = classes))"
   ]
  },
  {
   "cell_type": "code",
   "execution_count": 26,
   "metadata": {},
   "outputs": [],
   "source": [
    "from keras.preprocessing import image\n",
    "import os\n",
    "import cv2\n",
    "from os import listdir\n",
    "from os.path import isfile,join\n",
    "import re\n",
    "\n",
    "def draw_test(name,pred,im,true_label):\n",
    "    BLACK = [0,0,0]\n",
    "    expanded_image = cv2.copyMakeBorder(im,160,0,0,500,cv2.BORDER_CONSTANT,value = BLACK)\n",
    "    cv2.putText(expanded_image,\"predicted - \"+pred,(20,60),cv2.FONT_HERSHEY_SIMPLEX,1,(0,0,255),2)\n",
    "    cv2.putText(expanded_image,\"true -\"+true_label,(20,120),cv2.FONT_HERSHEY_SIMPLEX,1,(0,255,0),2)\n",
    "    cv2.imshow(name,expanded_image)\n",
    "    \n",
    "def getRandomImage(path,img_width,img_height):\n",
    "    folders = list(filter(lambda x: os.path.isdir(os.path.join(path,x)),os.listdir(path)))\n",
    "    random_directory = np.random.randint(0,len(folders))\n",
    "    path_class = folders[random_directory]\n",
    "    file_path = path+\"/\"+path_class\n",
    "    file_names = [f for f in listdir(file_path) if isfile(join(file_path,f))]\n",
    "    random_file_index = np.random.randint(0,len(file_names))\n",
    "    image_name = file_names[random_file_index]\n",
    "    final_path = file_path + \"/\" + image_name\n",
    "    return image.load_img(final_path,target_size = (img_width,img_height)),final_path,path_class\n",
    "\n",
    "img_width,img_height = 32,32\n",
    "\n",
    "files = []\n",
    "predictions = []\n",
    "true_labels = []\n",
    "\n",
    "for i in range(0, 10):\n",
    "    path = 'C:\\\\Users\\\\Girish\\\\Desktop\\\\Python\\\\CNN\\\\data\\\\test'\n",
    "    img,final_path,true_label = getRandomImage(path,img_width,img_height)\n",
    "    files.append(final_path)\n",
    "    true_labels.append(true_label)\n",
    "    x = image.img_to_array(img)\n",
    "    x = x*1./255\n",
    "    x = np.expand_dims(x,axis = 0)\n",
    "    images = np.vstack([x])\n",
    "    classes = model.predict_classes(images,batch_size = 10)\n",
    "    predictions.append(classes)\n",
    "    \n",
    "for i in range(0,len(files)):\n",
    "    image = cv2.imread((files[i]))\n",
    "    draw_test(\"Prediction\",class_labels[predictions[i][0]],image,true_labels[i])\n",
    "    cv2.waitKey(0)\n",
    "    \n",
    "cv2.destroyAllWindows()"
   ]
  },
  {
   "cell_type": "code",
   "execution_count": null,
   "metadata": {},
   "outputs": [],
   "source": []
  },
  {
   "cell_type": "code",
   "execution_count": null,
   "metadata": {},
   "outputs": [],
   "source": []
  },
  {
   "cell_type": "code",
   "execution_count": null,
   "metadata": {},
   "outputs": [],
   "source": []
  },
  {
   "cell_type": "code",
   "execution_count": null,
   "metadata": {},
   "outputs": [],
   "source": []
  },
  {
   "cell_type": "code",
   "execution_count": null,
   "metadata": {},
   "outputs": [],
   "source": []
  },
  {
   "cell_type": "code",
   "execution_count": null,
   "metadata": {},
   "outputs": [],
   "source": []
  },
  {
   "cell_type": "code",
   "execution_count": null,
   "metadata": {},
   "outputs": [],
   "source": []
  },
  {
   "cell_type": "code",
   "execution_count": null,
   "metadata": {},
   "outputs": [],
   "source": []
  },
  {
   "cell_type": "code",
   "execution_count": null,
   "metadata": {},
   "outputs": [],
   "source": []
  }
 ],
 "metadata": {
  "kernelspec": {
   "display_name": "Python 3",
   "language": "python",
   "name": "python3"
  },
  "language_info": {
   "codemirror_mode": {
    "name": "ipython",
    "version": 3
   },
   "file_extension": ".py",
   "mimetype": "text/x-python",
   "name": "python",
   "nbconvert_exporter": "python",
   "pygments_lexer": "ipython3",
   "version": "3.7.4-final"
  }
 },
 "nbformat": 4,
 "nbformat_minor": 2
}